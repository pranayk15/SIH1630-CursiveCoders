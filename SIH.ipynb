{
 "cells": [
  {
   "cell_type": "code",
   "execution_count": 4,
   "id": "19ad9c71",
   "metadata": {},
   "outputs": [],
   "source": [
    "import pandas as pd\n",
    "import numpy as np"
   ]
  },
  {
   "cell_type": "code",
   "execution_count": 5,
   "id": "616c13d1",
   "metadata": {},
   "outputs": [
    {
     "data": {
      "text/plain": [
       "'Threat Analysis, Security Best Practices, Network Security, English, Korean'"
      ]
     },
     "execution_count": 5,
     "metadata": {},
     "output_type": "execute_result"
    }
   ],
   "source": [
    "df=pd.read_csv(r\"C:\\Users\\Kale Ji\\Downloads\\Mentor_1.csv\")\n",
    "df.Skills[9]"
   ]
  },
  {
   "cell_type": "code",
   "execution_count": 6,
   "id": "fbee6e28",
   "metadata": {},
   "outputs": [
    {
     "data": {
      "text/html": [
       "<div>\n",
       "<style scoped>\n",
       "    .dataframe tbody tr th:only-of-type {\n",
       "        vertical-align: middle;\n",
       "    }\n",
       "\n",
       "    .dataframe tbody tr th {\n",
       "        vertical-align: top;\n",
       "    }\n",
       "\n",
       "    .dataframe thead th {\n",
       "        text-align: right;\n",
       "    }\n",
       "</style>\n",
       "<table border=\"1\" class=\"dataframe\">\n",
       "  <thead>\n",
       "    <tr style=\"text-align: right;\">\n",
       "      <th></th>\n",
       "      <th>FirstName</th>\n",
       "      <th>Skills</th>\n",
       "      <th>Skills_M</th>\n",
       "    </tr>\n",
       "  </thead>\n",
       "  <tbody>\n",
       "    <tr>\n",
       "      <th>0</th>\n",
       "      <td>John Doe</td>\n",
       "      <td>Information Technology, English</td>\n",
       "      <td>Python,Data Analysis,English,Spanish</td>\n",
       "    </tr>\n",
       "    <tr>\n",
       "      <th>1</th>\n",
       "      <td>Jane Smith</td>\n",
       "      <td>Python, Data Analysis, Machine Learning, Engli...</td>\n",
       "      <td>HTML,CSS,English</td>\n",
       "    </tr>\n",
       "    <tr>\n",
       "      <th>2</th>\n",
       "      <td>Emily Johnson</td>\n",
       "      <td>Career Coaching, Resume Writing, Interview Pre...</td>\n",
       "      <td>SEO,Content Creation,English,French</td>\n",
       "    </tr>\n",
       "    <tr>\n",
       "      <th>3</th>\n",
       "      <td>Michael Brown</td>\n",
       "      <td>HTML, CSS, JavaScript, Project Management, Eng...</td>\n",
       "      <td>Network Security,Threat Analysis,English</td>\n",
       "    </tr>\n",
       "    <tr>\n",
       "      <th>4</th>\n",
       "      <td>Olivia Williams</td>\n",
       "      <td>Agile, Product Development, Market Analysis, E...</td>\n",
       "      <td>Agile,Product Development,English,Spanish</td>\n",
       "    </tr>\n",
       "    <tr>\n",
       "      <th>5</th>\n",
       "      <td>James Jones</td>\n",
       "      <td>Cloud Computing, Distributed Systems, DevOps, ...</td>\n",
       "      <td>Leadership,Team Management,English</td>\n",
       "    </tr>\n",
       "    <tr>\n",
       "      <th>6</th>\n",
       "      <td>Amy Garcia</td>\n",
       "      <td>Digital Marketing, Branding, SEO, English, Spa...</td>\n",
       "      <td>Software Development,System Design,English</td>\n",
       "    </tr>\n",
       "    <tr>\n",
       "      <th>7</th>\n",
       "      <td>Robert Martinez</td>\n",
       "      <td>Investment Analysis, Financial Planning, Risk ...</td>\n",
       "      <td>Blockchain,Cryptocurrency,English,Chinese</td>\n",
       "    </tr>\n",
       "    <tr>\n",
       "      <th>8</th>\n",
       "      <td>Susan Wilson</td>\n",
       "      <td>Business Strategy, Growth Hacking, Startup Men...</td>\n",
       "      <td>Data Analysis,Predictive Modeling,English</td>\n",
       "    </tr>\n",
       "    <tr>\n",
       "      <th>9</th>\n",
       "      <td>David Anderson</td>\n",
       "      <td>Threat Analysis, Security Best Practices, Netw...</td>\n",
       "      <td>Mobile App Development,Cross-Platform Solution...</td>\n",
       "    </tr>\n",
       "    <tr>\n",
       "      <th>10</th>\n",
       "      <td>Emma Thomas</td>\n",
       "      <td>User Research, Interface Design, Prototyping, ...</td>\n",
       "      <td>Logistics,Supply Chain Management,English</td>\n",
       "    </tr>\n",
       "    <tr>\n",
       "      <th>11</th>\n",
       "      <td>William Jackson</td>\n",
       "      <td>Data Visualization, Statistical Analysis, SQL,...</td>\n",
       "      <td>Content Creation,Digital Marketing,English</td>\n",
       "    </tr>\n",
       "    <tr>\n",
       "      <th>12</th>\n",
       "      <td>Alice White</td>\n",
       "      <td>System Design, Scalable Architecture, Cloud So...</td>\n",
       "      <td>Financial Analysis,Investment Strategies,English</td>\n",
       "    </tr>\n",
       "    <tr>\n",
       "      <th>13</th>\n",
       "      <td>Michael Lee</td>\n",
       "      <td>Team Leadership, Project Management, Agile, En...</td>\n",
       "      <td>Network Security,Threat Analysis,English</td>\n",
       "    </tr>\n",
       "    <tr>\n",
       "      <th>14</th>\n",
       "      <td>Laura Harris</td>\n",
       "      <td>User Experience, Interactive Design, Prototypi...</td>\n",
       "      <td>Leadership,Team Management,English</td>\n",
       "    </tr>\n",
       "    <tr>\n",
       "      <th>15</th>\n",
       "      <td>James Young</td>\n",
       "      <td>Mobile App Development, Cross-Platform Solutio...</td>\n",
       "      <td>AI,Machine Learning,English</td>\n",
       "    </tr>\n",
       "    <tr>\n",
       "      <th>16</th>\n",
       "      <td>Jessica King</td>\n",
       "      <td>Healthcare Solutions, Technology Integration, ...</td>\n",
       "      <td>Software Development,System Design,English</td>\n",
       "    </tr>\n",
       "    <tr>\n",
       "      <th>17</th>\n",
       "      <td>Robert Wright</td>\n",
       "      <td>Cryptocurrency, Decentralized Applications, Sm...</td>\n",
       "      <td>Blockchain,Cryptocurrency,English</td>\n",
       "    </tr>\n",
       "    <tr>\n",
       "      <th>18</th>\n",
       "      <td>Anna Lopez</td>\n",
       "      <td>Intellectual Property, Corporate Law, Contract...</td>\n",
       "      <td>Digital Marketing,Branding,English</td>\n",
       "    </tr>\n",
       "    <tr>\n",
       "      <th>19</th>\n",
       "      <td>Paul Scott</td>\n",
       "      <td>Logistics, Supply Chain Management, Process Im...</td>\n",
       "      <td>Operations,Project Management,English</td>\n",
       "    </tr>\n",
       "    <tr>\n",
       "      <th>20</th>\n",
       "      <td>Emily Taylor</td>\n",
       "      <td>Content Creation, Digital Marketing, SEO, English</td>\n",
       "      <td>Data Science,Analytics,English</td>\n",
       "    </tr>\n",
       "    <tr>\n",
       "      <th>21</th>\n",
       "      <td>Daniel Hall</td>\n",
       "      <td>Tech Leadership, Strategy, Innovation, English...</td>\n",
       "      <td>Content Strategies,Marketing,English</td>\n",
       "    </tr>\n",
       "    <tr>\n",
       "      <th>22</th>\n",
       "      <td>Lisa Allen</td>\n",
       "      <td>Big Data, Predictive Analytics, Machine Learni...</td>\n",
       "      <td>Web Development,Software Engineering,English</td>\n",
       "    </tr>\n",
       "    <tr>\n",
       "      <th>23</th>\n",
       "      <td>Mark Adams</td>\n",
       "      <td>Backend Development, API Development, Python, ...</td>\n",
       "      <td>AI,Machine Learning,English</td>\n",
       "    </tr>\n",
       "    <tr>\n",
       "      <th>24</th>\n",
       "      <td>Grace Miller</td>\n",
       "      <td>AI Research, Machine Learning, Deep Learning, ...</td>\n",
       "      <td>Financial Analysis,Investment Strategies,English</td>\n",
       "    </tr>\n",
       "  </tbody>\n",
       "</table>\n",
       "</div>"
      ],
      "text/plain": [
       "          FirstName                                             Skills  \\\n",
       "0          John Doe                    Information Technology, English   \n",
       "1        Jane Smith  Python, Data Analysis, Machine Learning, Engli...   \n",
       "2     Emily Johnson  Career Coaching, Resume Writing, Interview Pre...   \n",
       "3     Michael Brown  HTML, CSS, JavaScript, Project Management, Eng...   \n",
       "4   Olivia Williams  Agile, Product Development, Market Analysis, E...   \n",
       "5       James Jones  Cloud Computing, Distributed Systems, DevOps, ...   \n",
       "6        Amy Garcia  Digital Marketing, Branding, SEO, English, Spa...   \n",
       "7   Robert Martinez  Investment Analysis, Financial Planning, Risk ...   \n",
       "8      Susan Wilson  Business Strategy, Growth Hacking, Startup Men...   \n",
       "9    David Anderson  Threat Analysis, Security Best Practices, Netw...   \n",
       "10      Emma Thomas  User Research, Interface Design, Prototyping, ...   \n",
       "11  William Jackson  Data Visualization, Statistical Analysis, SQL,...   \n",
       "12      Alice White  System Design, Scalable Architecture, Cloud So...   \n",
       "13      Michael Lee  Team Leadership, Project Management, Agile, En...   \n",
       "14     Laura Harris  User Experience, Interactive Design, Prototypi...   \n",
       "15      James Young  Mobile App Development, Cross-Platform Solutio...   \n",
       "16     Jessica King  Healthcare Solutions, Technology Integration, ...   \n",
       "17    Robert Wright  Cryptocurrency, Decentralized Applications, Sm...   \n",
       "18       Anna Lopez  Intellectual Property, Corporate Law, Contract...   \n",
       "19       Paul Scott  Logistics, Supply Chain Management, Process Im...   \n",
       "20     Emily Taylor  Content Creation, Digital Marketing, SEO, English   \n",
       "21     Daniel Hall   Tech Leadership, Strategy, Innovation, English...   \n",
       "22       Lisa Allen  Big Data, Predictive Analytics, Machine Learni...   \n",
       "23       Mark Adams  Backend Development, API Development, Python, ...   \n",
       "24     Grace Miller  AI Research, Machine Learning, Deep Learning, ...   \n",
       "\n",
       "                                             Skills_M  \n",
       "0                Python,Data Analysis,English,Spanish  \n",
       "1                                    HTML,CSS,English  \n",
       "2                 SEO,Content Creation,English,French  \n",
       "3            Network Security,Threat Analysis,English  \n",
       "4           Agile,Product Development,English,Spanish  \n",
       "5                  Leadership,Team Management,English  \n",
       "6          Software Development,System Design,English  \n",
       "7           Blockchain,Cryptocurrency,English,Chinese  \n",
       "8           Data Analysis,Predictive Modeling,English  \n",
       "9   Mobile App Development,Cross-Platform Solution...  \n",
       "10          Logistics,Supply Chain Management,English  \n",
       "11         Content Creation,Digital Marketing,English  \n",
       "12   Financial Analysis,Investment Strategies,English  \n",
       "13           Network Security,Threat Analysis,English  \n",
       "14                 Leadership,Team Management,English  \n",
       "15                        AI,Machine Learning,English  \n",
       "16         Software Development,System Design,English  \n",
       "17                  Blockchain,Cryptocurrency,English  \n",
       "18                 Digital Marketing,Branding,English  \n",
       "19              Operations,Project Management,English  \n",
       "20                     Data Science,Analytics,English  \n",
       "21               Content Strategies,Marketing,English  \n",
       "22       Web Development,Software Engineering,English  \n",
       "23                        AI,Machine Learning,English  \n",
       "24   Financial Analysis,Investment Strategies,English  "
      ]
     },
     "execution_count": 6,
     "metadata": {},
     "output_type": "execute_result"
    }
   ],
   "source": [
    "df=df[['FirstName','Skills','Skills_M']]\n",
    "df"
   ]
  },
  {
   "cell_type": "code",
   "execution_count": 7,
   "id": "778d8c9c",
   "metadata": {},
   "outputs": [],
   "source": [
    "from sklearn.model_selection import train_test_split\n",
    "X_train,X_test,y_train,y_test=train_test_split(df.Skills,df.FirstName,test_size=0.3)"
   ]
  },
  {
   "cell_type": "code",
   "execution_count": 8,
   "id": "7ee05c97",
   "metadata": {},
   "outputs": [
    {
     "data": {
      "text/plain": [
       "11    Data Visualization, Statistical Analysis, SQL,...\n",
       "3     HTML, CSS, JavaScript, Project Management, Eng...\n",
       "4     Agile, Product Development, Market Analysis, E...\n",
       "19    Logistics, Supply Chain Management, Process Im...\n",
       "9     Threat Analysis, Security Best Practices, Netw...\n",
       "7     Investment Analysis, Financial Planning, Risk ...\n",
       "14    User Experience, Interactive Design, Prototypi...\n",
       "23    Backend Development, API Development, Python, ...\n",
       "15    Mobile App Development, Cross-Platform Solutio...\n",
       "2     Career Coaching, Resume Writing, Interview Pre...\n",
       "8     Business Strategy, Growth Hacking, Startup Men...\n",
       "18    Intellectual Property, Corporate Law, Contract...\n",
       "17    Cryptocurrency, Decentralized Applications, Sm...\n",
       "24    AI Research, Machine Learning, Deep Learning, ...\n",
       "22    Big Data, Predictive Analytics, Machine Learni...\n",
       "1     Python, Data Analysis, Machine Learning, Engli...\n",
       "10    User Research, Interface Design, Prototyping, ...\n",
       "Name: Skills, dtype: object"
      ]
     },
     "execution_count": 8,
     "metadata": {},
     "output_type": "execute_result"
    }
   ],
   "source": [
    "X_train"
   ]
  },
  {
   "cell_type": "code",
   "execution_count": 9,
   "id": "ef292f0a",
   "metadata": {},
   "outputs": [
    {
     "data": {
      "text/plain": [
       "array([[0, 0, 1, 0, 0, 0, 0, 0, 0, 0, 0, 0, 0, 1, 0, 0, 0, 0, 0, 0, 0, 1,\n",
       "        0, 0, 0, 0, 1, 0, 0, 0, 0, 0, 0, 0, 0, 0, 0, 0, 0, 0, 0, 0, 0, 0,\n",
       "        0, 0, 0, 0, 0, 0, 0, 0, 0, 0, 0, 0, 0, 0, 0, 0, 0, 0, 0, 0, 0, 0,\n",
       "        0, 0, 0, 1, 0, 1, 0, 0, 0, 0, 0, 0, 1, 0],\n",
       "       [0, 0, 0, 0, 0, 0, 0, 0, 0, 0, 0, 0, 0, 0, 0, 0, 0, 0, 0, 0, 1, 0,\n",
       "        0, 0, 0, 0, 1, 0, 0, 0, 0, 0, 0, 1, 0, 0, 0, 0, 0, 0, 1, 0, 0, 0,\n",
       "        0, 0, 1, 0, 0, 0, 0, 0, 0, 0, 0, 0, 0, 0, 0, 1, 0, 0, 0, 0, 0, 0,\n",
       "        0, 0, 0, 0, 0, 0, 0, 0, 0, 0, 0, 0, 0, 0],\n",
       "       [1, 0, 1, 0, 0, 0, 0, 0, 0, 0, 0, 0, 0, 0, 0, 0, 0, 0, 0, 0, 0, 0,\n",
       "        0, 0, 0, 1, 1, 0, 0, 0, 1, 0, 0, 0, 0, 0, 0, 0, 0, 0, 0, 0, 0, 0,\n",
       "        0, 0, 0, 1, 0, 0, 0, 0, 0, 0, 0, 0, 0, 0, 1, 0, 0, 0, 0, 0, 0, 0,\n",
       "        0, 0, 0, 0, 0, 0, 0, 0, 0, 0, 0, 0, 0, 0]], dtype=int64)"
      ]
     },
     "execution_count": 9,
     "metadata": {},
     "output_type": "execute_result"
    }
   ],
   "source": [
    "from sklearn.feature_extraction.text import CountVectorizer\n",
    "v=CountVectorizer()\n",
    "X_train_count=v.fit_transform(X_train.values)\n",
    "X_train_count.toarray()[:3]\n"
   ]
  },
  {
   "cell_type": "code",
   "execution_count": 10,
   "id": "f43666ab",
   "metadata": {},
   "outputs": [
    {
     "data": {
      "text/html": [
       "<style>#sk-container-id-1 {color: black;}#sk-container-id-1 pre{padding: 0;}#sk-container-id-1 div.sk-toggleable {background-color: white;}#sk-container-id-1 label.sk-toggleable__label {cursor: pointer;display: block;width: 100%;margin-bottom: 0;padding: 0.3em;box-sizing: border-box;text-align: center;}#sk-container-id-1 label.sk-toggleable__label-arrow:before {content: \"▸\";float: left;margin-right: 0.25em;color: #696969;}#sk-container-id-1 label.sk-toggleable__label-arrow:hover:before {color: black;}#sk-container-id-1 div.sk-estimator:hover label.sk-toggleable__label-arrow:before {color: black;}#sk-container-id-1 div.sk-toggleable__content {max-height: 0;max-width: 0;overflow: hidden;text-align: left;background-color: #f0f8ff;}#sk-container-id-1 div.sk-toggleable__content pre {margin: 0.2em;color: black;border-radius: 0.25em;background-color: #f0f8ff;}#sk-container-id-1 input.sk-toggleable__control:checked~div.sk-toggleable__content {max-height: 200px;max-width: 100%;overflow: auto;}#sk-container-id-1 input.sk-toggleable__control:checked~label.sk-toggleable__label-arrow:before {content: \"▾\";}#sk-container-id-1 div.sk-estimator input.sk-toggleable__control:checked~label.sk-toggleable__label {background-color: #d4ebff;}#sk-container-id-1 div.sk-label input.sk-toggleable__control:checked~label.sk-toggleable__label {background-color: #d4ebff;}#sk-container-id-1 input.sk-hidden--visually {border: 0;clip: rect(1px 1px 1px 1px);clip: rect(1px, 1px, 1px, 1px);height: 1px;margin: -1px;overflow: hidden;padding: 0;position: absolute;width: 1px;}#sk-container-id-1 div.sk-estimator {font-family: monospace;background-color: #f0f8ff;border: 1px dotted black;border-radius: 0.25em;box-sizing: border-box;margin-bottom: 0.5em;}#sk-container-id-1 div.sk-estimator:hover {background-color: #d4ebff;}#sk-container-id-1 div.sk-parallel-item::after {content: \"\";width: 100%;border-bottom: 1px solid gray;flex-grow: 1;}#sk-container-id-1 div.sk-label:hover label.sk-toggleable__label {background-color: #d4ebff;}#sk-container-id-1 div.sk-serial::before {content: \"\";position: absolute;border-left: 1px solid gray;box-sizing: border-box;top: 0;bottom: 0;left: 50%;z-index: 0;}#sk-container-id-1 div.sk-serial {display: flex;flex-direction: column;align-items: center;background-color: white;padding-right: 0.2em;padding-left: 0.2em;position: relative;}#sk-container-id-1 div.sk-item {position: relative;z-index: 1;}#sk-container-id-1 div.sk-parallel {display: flex;align-items: stretch;justify-content: center;background-color: white;position: relative;}#sk-container-id-1 div.sk-item::before, #sk-container-id-1 div.sk-parallel-item::before {content: \"\";position: absolute;border-left: 1px solid gray;box-sizing: border-box;top: 0;bottom: 0;left: 50%;z-index: -1;}#sk-container-id-1 div.sk-parallel-item {display: flex;flex-direction: column;z-index: 1;position: relative;background-color: white;}#sk-container-id-1 div.sk-parallel-item:first-child::after {align-self: flex-end;width: 50%;}#sk-container-id-1 div.sk-parallel-item:last-child::after {align-self: flex-start;width: 50%;}#sk-container-id-1 div.sk-parallel-item:only-child::after {width: 0;}#sk-container-id-1 div.sk-dashed-wrapped {border: 1px dashed gray;margin: 0 0.4em 0.5em 0.4em;box-sizing: border-box;padding-bottom: 0.4em;background-color: white;}#sk-container-id-1 div.sk-label label {font-family: monospace;font-weight: bold;display: inline-block;line-height: 1.2em;}#sk-container-id-1 div.sk-label-container {text-align: center;}#sk-container-id-1 div.sk-container {/* jupyter's `normalize.less` sets `[hidden] { display: none; }` but bootstrap.min.css set `[hidden] { display: none !important; }` so we also need the `!important` here to be able to override the default hidden behavior on the sphinx rendered scikit-learn.org. See: https://github.com/scikit-learn/scikit-learn/issues/21755 */display: inline-block !important;position: relative;}#sk-container-id-1 div.sk-text-repr-fallback {display: none;}</style><div id=\"sk-container-id-1\" class=\"sk-top-container\"><div class=\"sk-text-repr-fallback\"><pre>MultinomialNB()</pre><b>In a Jupyter environment, please rerun this cell to show the HTML representation or trust the notebook. <br />On GitHub, the HTML representation is unable to render, please try loading this page with nbviewer.org.</b></div><div class=\"sk-container\" hidden><div class=\"sk-item\"><div class=\"sk-estimator sk-toggleable\"><input class=\"sk-toggleable__control sk-hidden--visually\" id=\"sk-estimator-id-1\" type=\"checkbox\" checked><label for=\"sk-estimator-id-1\" class=\"sk-toggleable__label sk-toggleable__label-arrow\">MultinomialNB</label><div class=\"sk-toggleable__content\"><pre>MultinomialNB()</pre></div></div></div></div></div>"
      ],
      "text/plain": [
       "MultinomialNB()"
      ]
     },
     "execution_count": 10,
     "metadata": {},
     "output_type": "execute_result"
    }
   ],
   "source": [
    "from sklearn.naive_bayes import MultinomialNB\n",
    "model=MultinomialNB()\n",
    "model.fit(X_train_count,y_train)"
   ]
  },
  {
   "cell_type": "code",
   "execution_count": 39,
   "id": "fe332a75",
   "metadata": {},
   "outputs": [],
   "source": [
    "skills = ['HTML,CSS,JavaScript']\n",
    "skills_count = v.transform(skills)\n",
    "c=model.predict(skills_count)"
   ]
  },
  {
   "cell_type": "code",
   "execution_count": 13,
   "id": "9f2c8145",
   "metadata": {},
   "outputs": [],
   "source": [
    "from sklearn.feature_extraction.text import CountVectorizer\n",
    "cv=CountVectorizer(max_features=5000,stop_words='english')"
   ]
  },
  {
   "cell_type": "code",
   "execution_count": 15,
   "id": "d37b54dc",
   "metadata": {},
   "outputs": [],
   "source": [
    "vector=cv.fit_transform(df['Skills']).toarray()"
   ]
  },
  {
   "cell_type": "code",
   "execution_count": 16,
   "id": "f887aedb",
   "metadata": {},
   "outputs": [
    {
     "data": {
      "text/plain": [
       "array([[0, 0, 0, ..., 0, 0, 0],\n",
       "       [0, 0, 1, ..., 0, 0, 0],\n",
       "       [0, 0, 0, ..., 0, 0, 1],\n",
       "       ...,\n",
       "       [0, 0, 0, ..., 0, 0, 0],\n",
       "       [0, 0, 0, ..., 0, 0, 0],\n",
       "       [0, 1, 0, ..., 0, 0, 0]], dtype=int64)"
      ]
     },
     "execution_count": 16,
     "metadata": {},
     "output_type": "execute_result"
    }
   ],
   "source": [
    "vector"
   ]
  },
  {
   "cell_type": "code",
   "execution_count": 19,
   "id": "317ddebf",
   "metadata": {},
   "outputs": [
    {
     "data": {
      "text/plain": [
       "array(['Information Technology, English',\n",
       "       'Python, Data Analysis, Machine Learning, English, French',\n",
       "       'Career Coaching, Resume Writing, Interview Preparation, English',\n",
       "       'HTML, CSS, JavaScript, Project Management, English',\n",
       "       'Agile, Product Development, Market Analysis, English, German',\n",
       "       'Cloud Computing, Distributed Systems, DevOps, English',\n",
       "       'Digital Marketing, Branding, SEO, English, Spanish',\n",
       "       'Investment Analysis, Financial Planning, Risk Management, English',\n",
       "       'Business Strategy, Growth Hacking, Startup Mentoring, English',\n",
       "       'Threat Analysis, Security Best Practices, Network Security, English, Korean',\n",
       "       'User Research, Interface Design, Prototyping, English',\n",
       "       'Data Visualization, Statistical Analysis, SQL, English, Chinese',\n",
       "       'System Design, Scalable Architecture, Cloud Solutions, English',\n",
       "       'Team Leadership, Project Management, Agile, English',\n",
       "       'User Experience, Interactive Design, Prototyping, English',\n",
       "       'Mobile App Development, Cross-Platform Solutions, UX/UI, English',\n",
       "       'Healthcare Solutions, Technology Integration, Data Management,English',\n",
       "       'Cryptocurrency, Decentralized Applications, Smart Contracts,English',\n",
       "       'Intellectual Property, Corporate Law, Contract Negotiation, English',\n",
       "       'Logistics, Supply Chain Management, Process Improvement, English',\n",
       "       'Content Creation, Digital Marketing, SEO, English',\n",
       "       'Tech Leadership, Strategy, Innovation, English, Spanish',\n",
       "       'Big Data, Predictive Analytics, Machine Learning, English',\n",
       "       'Backend Development, API Development, Python, English, German',\n",
       "       'AI Research, Machine Learning, Deep Learning, English'],\n",
       "      dtype=object)"
      ]
     },
     "execution_count": 19,
     "metadata": {},
     "output_type": "execute_result"
    }
   ],
   "source": [
    "df.Skills.unique()"
   ]
  },
  {
   "cell_type": "code",
   "execution_count": 22,
   "id": "4de30622",
   "metadata": {},
   "outputs": [],
   "source": [
    "from sklearn.feature_extraction.text import TfidfVectorizer\n",
    "tdif=TfidfVectorizer()\n",
    "tdif_matrix=tdif.fit_transform(df['Skills'])"
   ]
  },
  {
   "cell_type": "code",
   "execution_count": 24,
   "id": "c4734ad1",
   "metadata": {},
   "outputs": [],
   "source": [
    "from sklearn.metrics.pairwise import sigmoid_kernel\n",
    "cosine_sim=sigmoid_kernel(tdif_matrix,tdif_matrix)"
   ]
  },
  {
   "cell_type": "code",
   "execution_count": 27,
   "id": "7a4136b1",
   "metadata": {},
   "outputs": [],
   "source": [
    "indices=pd.Series(df.index,index=df['FirstName'])"
   ]
  },
  {
   "cell_type": "code",
   "execution_count": 33,
   "id": "b0605064",
   "metadata": {},
   "outputs": [],
   "source": [
    "def recommendation(name,cosine_sim=cosine_sim):\n",
    "    id=indices[name]\n",
    "    sim_scores=sorted(list(enumerate(cosine_sim[id])),key=lambda x:x[1],reverse=True)\n",
    "#     print(sim_scores)\n",
    "    sim_scores=sim_scores[1:6]\n",
    "    pos=[i[0] for i in sim_scores]\n",
    "    return df['FirstName'].iloc[pos]\n",
    "    "
   ]
  },
  {
   "cell_type": "code",
   "execution_count": 40,
   "id": "342a0ebb",
   "metadata": {},
   "outputs": [
    {
     "data": {
      "text/plain": [
       "('Michael Brown',\n",
       " 13        Michael Lee\n",
       " 16       Jessica King\n",
       " 7     Robert Martinez\n",
       " 19         Paul Scott\n",
       " 0            John Doe\n",
       " Name: FirstName, dtype: object)"
      ]
     },
     "execution_count": 40,
     "metadata": {},
     "output_type": "execute_result"
    }
   ],
   "source": [
    "c[0],recommendation(c[0])"
   ]
  }
 ],
 "metadata": {
  "kernelspec": {
   "display_name": "Python 3 (ipykernel)",
   "language": "python",
   "name": "python3"
  },
  "language_info": {
   "codemirror_mode": {
    "name": "ipython",
    "version": 3
   },
   "file_extension": ".py",
   "mimetype": "text/x-python",
   "name": "python",
   "nbconvert_exporter": "python",
   "pygments_lexer": "ipython3",
   "version": "3.11.4"
  }
 },
 "nbformat": 4,
 "nbformat_minor": 5
}
